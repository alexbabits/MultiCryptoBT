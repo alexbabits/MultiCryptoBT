{
 "cells": [
  {
   "cell_type": "code",
   "execution_count": 2,
   "metadata": {},
   "outputs": [
    {
     "name": "stdout",
     "output_type": "stream",
     "text": [
      "Requirement already satisfied: finta in c:\\users\\admin\\appdata\\local\\packages\\pythonsoftwarefoundation.python.3.10_qbz5n2kfra8p0\\localcache\\local-packages\\python310\\site-packages (1.3)\n",
      "Requirement already satisfied: numpy in c:\\users\\admin\\appdata\\local\\packages\\pythonsoftwarefoundation.python.3.10_qbz5n2kfra8p0\\localcache\\local-packages\\python310\\site-packages (from finta) (1.23.5)\n",
      "Requirement already satisfied: pandas in c:\\users\\admin\\appdata\\local\\packages\\pythonsoftwarefoundation.python.3.10_qbz5n2kfra8p0\\localcache\\local-packages\\python310\\site-packages (from finta) (1.5.3)\n",
      "Requirement already satisfied: python-dateutil>=2.8.1 in c:\\users\\admin\\appdata\\local\\packages\\pythonsoftwarefoundation.python.3.10_qbz5n2kfra8p0\\localcache\\local-packages\\python310\\site-packages (from pandas->finta) (2.8.2)\n",
      "Requirement already satisfied: pytz>=2020.1 in c:\\users\\admin\\appdata\\local\\packages\\pythonsoftwarefoundation.python.3.10_qbz5n2kfra8p0\\localcache\\local-packages\\python310\\site-packages (from pandas->finta) (2022.7.1)\n",
      "Requirement already satisfied: six>=1.5 in c:\\users\\admin\\appdata\\local\\packages\\pythonsoftwarefoundation.python.3.10_qbz5n2kfra8p0\\localcache\\local-packages\\python310\\site-packages (from python-dateutil>=2.8.1->pandas->finta) (1.16.0)\n",
      "Note: you may need to restart the kernel to use updated packages.\n",
      "Requirement already satisfied: backtesting in c:\\users\\admin\\appdata\\local\\packages\\pythonsoftwarefoundation.python.3.10_qbz5n2kfra8p0\\localcache\\local-packages\\python310\\site-packages (0.3.3)\n",
      "Requirement already satisfied: numpy>=1.17.0 in c:\\users\\admin\\appdata\\local\\packages\\pythonsoftwarefoundation.python.3.10_qbz5n2kfra8p0\\localcache\\local-packages\\python310\\site-packages (from backtesting) (1.23.5)\n",
      "Requirement already satisfied: pandas!=0.25.0,>=0.25.0 in c:\\users\\admin\\appdata\\local\\packages\\pythonsoftwarefoundation.python.3.10_qbz5n2kfra8p0\\localcache\\local-packages\\python310\\site-packages (from backtesting) (1.5.3)\n",
      "Requirement already satisfied: bokeh>=1.4.0 in c:\\users\\admin\\appdata\\local\\packages\\pythonsoftwarefoundation.python.3.10_qbz5n2kfra8p0\\localcache\\local-packages\\python310\\site-packages (from backtesting) (3.1.0)\n",
      "Requirement already satisfied: Jinja2>=2.9 in c:\\users\\admin\\appdata\\local\\packages\\pythonsoftwarefoundation.python.3.10_qbz5n2kfra8p0\\localcache\\local-packages\\python310\\site-packages (from bokeh>=1.4.0->backtesting) (3.1.2)\n",
      "Requirement already satisfied: contourpy>=1 in c:\\users\\admin\\appdata\\local\\packages\\pythonsoftwarefoundation.python.3.10_qbz5n2kfra8p0\\localcache\\local-packages\\python310\\site-packages (from bokeh>=1.4.0->backtesting) (1.0.7)\n",
      "Requirement already satisfied: packaging>=16.8 in c:\\users\\admin\\appdata\\local\\packages\\pythonsoftwarefoundation.python.3.10_qbz5n2kfra8p0\\localcache\\local-packages\\python310\\site-packages (from bokeh>=1.4.0->backtesting) (23.0)\n",
      "Requirement already satisfied: pillow>=7.1.0 in c:\\users\\admin\\appdata\\local\\packages\\pythonsoftwarefoundation.python.3.10_qbz5n2kfra8p0\\localcache\\local-packages\\python310\\site-packages (from bokeh>=1.4.0->backtesting) (9.5.0)\n",
      "Requirement already satisfied: PyYAML>=3.10 in c:\\users\\admin\\appdata\\local\\packages\\pythonsoftwarefoundation.python.3.10_qbz5n2kfra8p0\\localcache\\local-packages\\python310\\site-packages (from bokeh>=1.4.0->backtesting) (6.0)\n",
      "Requirement already satisfied: tornado>=5.1 in c:\\users\\admin\\appdata\\local\\packages\\pythonsoftwarefoundation.python.3.10_qbz5n2kfra8p0\\localcache\\local-packages\\python310\\site-packages (from bokeh>=1.4.0->backtesting) (6.2)\n",
      "Requirement already satisfied: xyzservices>=2021.09.1 in c:\\users\\admin\\appdata\\local\\packages\\pythonsoftwarefoundation.python.3.10_qbz5n2kfra8p0\\localcache\\local-packages\\python310\\site-packages (from bokeh>=1.4.0->backtesting) (2023.2.0)\n",
      "Requirement already satisfied: python-dateutil>=2.8.1 in c:\\users\\admin\\appdata\\local\\packages\\pythonsoftwarefoundation.python.3.10_qbz5n2kfra8p0\\localcache\\local-packages\\python310\\site-packages (from pandas!=0.25.0,>=0.25.0->backtesting) (2.8.2)\n",
      "Requirement already satisfied: pytz>=2020.1 in c:\\users\\admin\\appdata\\local\\packages\\pythonsoftwarefoundation.python.3.10_qbz5n2kfra8p0\\localcache\\local-packages\\python310\\site-packages (from pandas!=0.25.0,>=0.25.0->backtesting) (2022.7.1)\n",
      "Requirement already satisfied: MarkupSafe>=2.0 in c:\\users\\admin\\appdata\\local\\packages\\pythonsoftwarefoundation.python.3.10_qbz5n2kfra8p0\\localcache\\local-packages\\python310\\site-packages (from Jinja2>=2.9->bokeh>=1.4.0->backtesting) (2.1.2)\n",
      "Requirement already satisfied: six>=1.5 in c:\\users\\admin\\appdata\\local\\packages\\pythonsoftwarefoundation.python.3.10_qbz5n2kfra8p0\\localcache\\local-packages\\python310\\site-packages (from python-dateutil>=2.8.1->pandas!=0.25.0,>=0.25.0->backtesting) (1.16.0)\n",
      "Note: you may need to restart the kernel to use updated packages.\n",
      "Requirement already satisfied: plotly in c:\\users\\admin\\appdata\\local\\packages\\pythonsoftwarefoundation.python.3.10_qbz5n2kfra8p0\\localcache\\local-packages\\python310\\site-packages (5.14.1)\n",
      "Requirement already satisfied: tenacity>=6.2.0 in c:\\users\\admin\\appdata\\local\\packages\\pythonsoftwarefoundation.python.3.10_qbz5n2kfra8p0\\localcache\\local-packages\\python310\\site-packages (from plotly) (8.2.2)\n",
      "Requirement already satisfied: packaging in c:\\users\\admin\\appdata\\local\\packages\\pythonsoftwarefoundation.python.3.10_qbz5n2kfra8p0\\localcache\\local-packages\\python310\\site-packages (from plotly) (23.0)\n",
      "Note: you may need to restart the kernel to use updated packages.\n",
      "Requirement already satisfied: nbformat in c:\\users\\admin\\appdata\\local\\packages\\pythonsoftwarefoundation.python.3.10_qbz5n2kfra8p0\\localcache\\local-packages\\python310\\site-packages (5.8.0)\n",
      "Collecting nbformat\n",
      "  Downloading nbformat-5.9.0-py3-none-any.whl (77 kB)\n",
      "                                              0.0/77.6 kB ? eta -:--:--\n",
      "     ---------------------------------------- 77.6/77.6 kB 4.2 MB/s eta 0:00:00\n",
      "Requirement already satisfied: fastjsonschema in c:\\users\\admin\\appdata\\local\\packages\\pythonsoftwarefoundation.python.3.10_qbz5n2kfra8p0\\localcache\\local-packages\\python310\\site-packages (from nbformat) (2.16.3)\n",
      "Requirement already satisfied: jsonschema>=2.6 in c:\\users\\admin\\appdata\\local\\packages\\pythonsoftwarefoundation.python.3.10_qbz5n2kfra8p0\\localcache\\local-packages\\python310\\site-packages (from nbformat) (4.17.3)\n",
      "Requirement already satisfied: jupyter-core in c:\\users\\admin\\appdata\\local\\packages\\pythonsoftwarefoundation.python.3.10_qbz5n2kfra8p0\\localcache\\local-packages\\python310\\site-packages (from nbformat) (5.2.0)\n",
      "Requirement already satisfied: traitlets>=5.1 in c:\\users\\admin\\appdata\\local\\packages\\pythonsoftwarefoundation.python.3.10_qbz5n2kfra8p0\\localcache\\local-packages\\python310\\site-packages (from nbformat) (5.9.0)\n",
      "Requirement already satisfied: attrs>=17.4.0 in c:\\users\\admin\\appdata\\local\\packages\\pythonsoftwarefoundation.python.3.10_qbz5n2kfra8p0\\localcache\\local-packages\\python310\\site-packages (from jsonschema>=2.6->nbformat) (22.2.0)\n",
      "Requirement already satisfied: pyrsistent!=0.17.0,!=0.17.1,!=0.17.2,>=0.14.0 in c:\\users\\admin\\appdata\\local\\packages\\pythonsoftwarefoundation.python.3.10_qbz5n2kfra8p0\\localcache\\local-packages\\python310\\site-packages (from jsonschema>=2.6->nbformat) (0.19.3)\n",
      "Requirement already satisfied: platformdirs>=2.5 in c:\\users\\admin\\appdata\\local\\packages\\pythonsoftwarefoundation.python.3.10_qbz5n2kfra8p0\\localcache\\local-packages\\python310\\site-packages (from jupyter-core->nbformat) (3.0.0)\n",
      "Requirement already satisfied: pywin32>=1.0 in c:\\users\\admin\\appdata\\local\\packages\\pythonsoftwarefoundation.python.3.10_qbz5n2kfra8p0\\localcache\\local-packages\\python310\\site-packages (from jupyter-core->nbformat) (305)\n",
      "Installing collected packages: nbformat\n",
      "  Attempting uninstall: nbformat\n",
      "    Found existing installation: nbformat 5.8.0\n",
      "    Uninstalling nbformat-5.8.0:\n",
      "      Successfully uninstalled nbformat-5.8.0\n",
      "Successfully installed nbformat-5.9.0\n",
      "Note: you may need to restart the kernel to use updated packages.\n"
     ]
    }
   ],
   "source": [
    "%pip install finta\n",
    "%pip install backtesting\n",
    "%pip install plotly\n",
    "%pip install nbformat --upgrade\n",
    "import plotly.graph_objects as go\n",
    "from plotly.subplots import make_subplots\n",
    "import plotly.express as px\n",
    "from backtesting import Backtest, Strategy\n",
    "from backtesting.lib import crossover\n",
    "from backtesting.test import SMA\n",
    "import requests\n",
    "import json\n",
    "from finta import TA\n",
    "import pandas as pd"
   ]
  },
  {
   "cell_type": "code",
   "execution_count": 3,
   "metadata": {},
   "outputs": [
    {
     "data": {
      "text/plain": [
       "{'BTC':                          Open      High       Low     Close      Volume\n",
       " Date                                                                   \n",
       " 2023-04-07 00:00:00  28016.06  28120.71  28052.74  28114.90  140.028971\n",
       " 2023-04-07 01:00:00  28054.16  28117.84  28114.89  28078.18  144.088551\n",
       " 2023-04-07 02:00:00  27945.38  28095.81  28077.30  28040.70  256.141923\n",
       " 2023-04-07 03:00:00  28000.00  28070.32  28040.70  28052.55  184.706539\n",
       " 2023-04-07 04:00:00  28010.19  28085.48  28052.55  28039.49  230.529889\n",
       " ...                       ...       ...       ...       ...         ...\n",
       " 2023-04-18 19:00:00  30107.55  30247.87  30159.51  30224.17  483.065434\n",
       " 2023-04-18 20:00:00  30156.22  30463.84  30223.35  30426.34  549.306298\n",
       " 2023-04-18 21:00:00  30281.92  30451.17  30425.49  30378.06  479.996034\n",
       " 2023-04-18 22:00:00  30298.21  30414.89  30378.06  30378.23  306.597932\n",
       " 2023-04-18 23:00:00  30308.77  30426.40  30379.18  30393.40  411.325301\n",
       " \n",
       " [288 rows x 5 columns],\n",
       " 'ETH':                         Open     High      Low    Close       Volume\n",
       " Date                                                                \n",
       " 2023-04-07 00:00:00  1870.67  1883.16  1873.28  1882.60  2474.952212\n",
       " 2023-04-07 01:00:00  1875.56  1883.35  1882.60  1876.25  2422.455580\n",
       " 2023-04-07 02:00:00  1867.66  1878.00  1876.20  1874.66  2150.575168\n",
       " 2023-04-07 03:00:00  1874.51  1879.57  1874.62  1877.80  2069.386388\n",
       " 2023-04-07 04:00:00  1875.16  1880.01  1877.80  1877.20  1867.187353\n",
       " ...                      ...      ...      ...      ...          ...\n",
       " 2023-04-18 19:00:00  2077.42  2085.70  2080.98  2081.28  6132.104263\n",
       " 2023-04-18 20:00:00  2074.70  2097.81  2081.17  2093.57  4331.883584\n",
       " 2023-04-18 21:00:00  2085.87  2096.52  2093.61  2093.32  3551.185888\n",
       " 2023-04-18 22:00:00  2088.64  2095.39  2093.31  2092.96  3026.208285\n",
       " 2023-04-18 23:00:00  2090.87  2108.69  2092.96  2104.61  3029.491015\n",
       " \n",
       " [288 rows x 5 columns],\n",
       " 'LINK':                       Open   High    Low  Close     Volume\n",
       " Date                                                      \n",
       " 2023-04-07 00:00:00  7.175  7.230  7.202  7.225   24443.67\n",
       " 2023-04-07 01:00:00  7.192  7.233  7.227  7.196   15943.93\n",
       " 2023-04-07 02:00:00  7.160  7.216  7.195  7.188   12685.50\n",
       " 2023-04-07 03:00:00  7.174  7.198  7.189  7.186    6789.48\n",
       " 2023-04-07 04:00:00  7.173  7.216  7.186  7.216    9107.77\n",
       " ...                    ...    ...    ...    ...        ...\n",
       " 2023-04-18 19:00:00  8.522  8.634  8.597  8.547  118844.85\n",
       " 2023-04-18 20:00:00  8.526  8.629  8.548  8.618   73610.32\n",
       " 2023-04-18 21:00:00  8.562  8.626  8.618  8.625   37104.13\n",
       " 2023-04-18 22:00:00  8.539  8.634  8.622  8.571  101687.07\n",
       " 2023-04-18 23:00:00  8.528  8.599  8.569  8.586   82335.55\n",
       " \n",
       " [288 rows x 5 columns],\n",
       " 'ADA':                        Open    High     Low   Close      Volume\n",
       " Date                                                           \n",
       " 2023-04-07 00:00:00  0.3818  0.3846  0.3832  0.3846   601573.38\n",
       " 2023-04-07 01:00:00  0.3818  0.3847  0.3846  0.3820   671517.26\n",
       " 2023-04-07 02:00:00  0.3796  0.3824  0.3820  0.3806   963895.75\n",
       " 2023-04-07 03:00:00  0.3799  0.3816  0.3806  0.3814   572522.46\n",
       " 2023-04-07 04:00:00  0.3807  0.3832  0.3814  0.3827   437287.26\n",
       " ...                     ...     ...     ...     ...         ...\n",
       " 2023-04-18 19:00:00  0.4376  0.4400  0.4384  0.4398  1990109.30\n",
       " 2023-04-18 20:00:00  0.4381  0.4429  0.4397  0.4424  2442887.18\n",
       " 2023-04-18 21:00:00  0.4406  0.4426  0.4424  0.4417  1203404.77\n",
       " 2023-04-18 22:00:00  0.4412  0.4428  0.4418  0.4424  1585613.73\n",
       " 2023-04-18 23:00:00  0.4419  0.4442  0.4424  0.4436  1853040.65\n",
       " \n",
       " [288 rows x 5 columns],\n",
       " 'DOGE':                         Open     High      Low    Close      Volume\n",
       " Date                                                               \n",
       " 2023-04-07 00:00:00  0.08462  0.08628  0.08545  0.08619  24888788.1\n",
       " 2023-04-07 01:00:00  0.08481  0.08619  0.08619  0.08517  22044753.7\n",
       " 2023-04-07 02:00:00  0.08407  0.08581  0.08523  0.08481  25374796.5\n",
       " 2023-04-07 03:00:00  0.08439  0.08525  0.08480  0.08496  24752267.0\n",
       " 2023-04-07 04:00:00  0.08484  0.08554  0.08500  0.08496  22269672.0\n",
       " ...                      ...      ...      ...      ...         ...\n",
       " 2023-04-18 19:00:00  0.09264  0.09325  0.09278  0.09311  10595024.4\n",
       " 2023-04-18 20:00:00  0.09271  0.09334  0.09311  0.09311  12487456.4\n",
       " 2023-04-18 21:00:00  0.09280  0.09359  0.09308  0.09354   9741280.3\n",
       " 2023-04-18 22:00:00  0.09310  0.09358  0.09354  0.09348  12306414.0\n",
       " 2023-04-18 23:00:00  0.09342  0.09418  0.09346  0.09413  33715782.6\n",
       " \n",
       " [288 rows x 5 columns]}"
      ]
     },
     "execution_count": 3,
     "metadata": {},
     "output_type": "execute_result"
    }
   ],
   "source": [
    "# Gathering hourly price data for multiple symbols and putting the data in a dictionary.\n",
    "def create_price_data_dict(symbols, start_date, end_date):\n",
    "    dict = {}\n",
    "    \n",
    "    for symbol in symbols:\n",
    "        url = f'https://api.pro.coinbase.com/products/{symbol}-USD/candles'\n",
    "        params = {'start': start_date, 'end': end_date, 'granularity': 3600}\n",
    "        response = requests.get(url, params=params)\n",
    "        data = json.loads(response.text)\n",
    "\n",
    "        price_data_df = pd.DataFrame(data, columns=['Date', 'Open', 'High', 'Low', 'Close', 'Volume'])\n",
    "        price_data_df['Date'] = pd.to_datetime(price_data_df['Date'], unit='s')\n",
    "        price_data_df.set_index('Date', inplace=True)\n",
    "        price_data_df.sort_index(inplace=True)\n",
    "        \n",
    "        dict[symbol] = price_data_df\n",
    "\n",
    "    return dict\n",
    "\n",
    "symbols = ['BTC', 'ETH', 'LINK', 'ADA', 'DOGE']\n",
    "start_date = '2023-04-07T00:00:00.000Z'\n",
    "end_date = '2023-04-18T23:59:59.999Z'\n",
    "\n",
    "price_data_dict = create_price_data_dict(symbols, start_date, end_date)\n",
    "price_data_dict"
   ]
  },
  {
   "cell_type": "code",
   "execution_count": 5,
   "metadata": {},
   "outputs": [],
   "source": [
    "# Creating the trading strategy used to analyze over the price data.\n",
    "\n",
    "class SmaCrossWithRSI(Strategy):\n",
    "    # Initialize variables\n",
    "    short_sma = 20\n",
    "    long_sma = 50\n",
    "    atr_length = 14\n",
    "    rsi_length = 14\n",
    "\n",
    "    # Initialize the strategy. Instances are stored as attributes in our SmaCrossWithRSI object. \n",
    "    def init(self):\n",
    "        # Creates pandas series of the price data for later use. \n",
    "        open = pd.Series(self.data.Open)\n",
    "        close = pd.Series(self.data.Close)\n",
    "        high = pd.Series(self.data.High)\n",
    "        low = pd.Series(self.data.Low)\n",
    "        volume = pd.Series(self.data.Volume)\n",
    "\n",
    "        # Creates df for the ohlcv data to calculate ATR and RSI.\n",
    "        ohlcv_df = pd.DataFrame({'open': open, 'high': high, 'low': low, 'close': close, 'volume': volume})\n",
    "\n",
    "        # Creates instance of ATR and RSI indicators from finta, and the native SMA indicator from bt.\n",
    "        self.atr = self.I(TA.ATR, ohlcv_df, self.atr_length)\n",
    "        self.rsi = self.I(TA.RSI, ohlcv_df, self.rsi_length)\n",
    "        self.sma1 = self.I(SMA, close, self.short_sma)\n",
    "        self.sma2 = self.I(SMA, close, self.long_sma)\n",
    "\n",
    "    # Logic for trade entrance and exit.\n",
    "    def next(self):\n",
    "        # Price set to the candles 'close' value, used for calculating stop loss and take profit targets.\n",
    "        price = self.data.Close\n",
    "\n",
    "        # ATR and RSI for the latest candle.\n",
    "        ATR = self.atr[-1]\n",
    "        RSI = self.rsi[-1]\n",
    "\n",
    "        # If sma1 crosses over sma2, and RSI > 50, then enter a long position with the desired target logic.\n",
    "        if crossover(self.sma1, self.sma2) and RSI > 50:\n",
    "            stop_loss = price - (1.1 * ATR)\n",
    "            take_profit = price + (2 * ATR)\n",
    "            self.buy(sl=stop_loss, tp=take_profit)"
   ]
  },
  {
   "cell_type": "code",
   "execution_count": 6,
   "metadata": {},
   "outputs": [
    {
     "name": "stderr",
     "output_type": "stream",
     "text": [
      "C:\\Users\\Admin\\AppData\\Local\\Packages\\PythonSoftwareFoundation.Python.3.10_qbz5n2kfra8p0\\LocalCache\\local-packages\\Python310\\site-packages\\backtesting\\_stats.py:122: RuntimeWarning: divide by zero encountered in double_scalars\n",
      "  s.loc['Sortino Ratio'] = np.clip((annualized_return - risk_free_rate) / (np.sqrt(np.mean(day_returns.clip(-np.inf, 0)**2)) * np.sqrt(annual_trading_days)), 0, np.inf)  # noqa: E501\n"
     ]
    }
   ],
   "source": [
    "# Running the backtests for each coin.\n",
    "\n",
    "def run_backtests(price_data_dict, strategy_class):\n",
    "    dict = {}\n",
    "    \n",
    "    for symbol, price_data_df in price_data_dict.items():\n",
    "        bt = Backtest(price_data_df, strategy_class, cash=100000, commission=0.002, exclusive_orders=True)\n",
    "        strategy_trade_results = bt.run()\n",
    "        strategy_trade_results_df = pd.DataFrame(strategy_trade_results).transpose()\n",
    "        dict[symbol] = strategy_trade_results_df\n",
    "\n",
    "    return dict\n",
    "\n",
    "backtest_results_dict = run_backtests(price_data_dict, SmaCrossWithRSI)"
   ]
  },
  {
   "cell_type": "code",
   "execution_count": 7,
   "metadata": {},
   "outputs": [
    {
     "name": "stdout",
     "output_type": "stream",
     "text": [
      "        # Trades Return [%] Win Rate [%] Sharpe Ratio\n",
      "Symbols                                              \n",
      "BTC            3   0.006898    33.333333     0.037013\n",
      "ETH            4   2.361414         75.0      4.77247\n",
      "LINK           2  -0.442156         50.0          0.0\n",
      "ADA            2  -1.174481          0.0          0.0\n",
      "DOGE           2   2.506253        100.0     5.216987\n"
     ]
    }
   ],
   "source": [
    "# Formatting and gathering only the desired metrics to look at for each coin.\n",
    "\n",
    "desired_metrics = ['# Trades', 'Return [%]', 'Win Rate [%]', 'Sharpe Ratio']\n",
    "desired_metrics_dict = {}\n",
    "\n",
    "for symbol, backtest_result_df in backtest_results_dict.items():\n",
    "    desired_metrics_dict[symbol] = backtest_result_df.loc[0, desired_metrics]\n",
    "\n",
    "# Combine the desired metrics of the coins into a single DataFrame\n",
    "desired_metrics_df = pd.DataFrame(desired_metrics_dict).transpose()\n",
    "desired_metrics_df['Symbols'] = desired_metrics_df.index\n",
    "desired_metrics_df.set_index('Symbols', inplace=True)\n",
    "\n",
    "print(desired_metrics_df)"
   ]
  },
  {
   "cell_type": "code",
   "execution_count": 8,
   "metadata": {},
   "outputs": [
    {
     "name": "stdout",
     "output_type": "stream",
     "text": [
      "          Return [%]  Win Rate [%]  Sharpe Ratio\n",
      "# Trades                                        \n",
      "13          0.651586     51.666667      2.005294\n"
     ]
    }
   ],
   "source": [
    "# Aggregating the trading strategy results for all the coins into one dataframe.\n",
    "\n",
    "total_trades = desired_metrics_df['# Trades'].sum()\n",
    "avg_return = desired_metrics_df['Return [%]'].mean()\n",
    "avg_sharpe_ratio = desired_metrics_df['Sharpe Ratio'].mean()\n",
    "avg_win_rate = desired_metrics_df['Win Rate [%]'].mean()\n",
    "\n",
    "# Create a DataFrame with the aggregated data\n",
    "aggregated_df = pd.DataFrame(data=[[total_trades, avg_return, avg_win_rate, avg_sharpe_ratio]], columns=desired_metrics)\n",
    "aggregated_df.set_index('# Trades', inplace=True)\n",
    "print(aggregated_df)"
   ]
  },
  {
   "cell_type": "code",
   "execution_count": 9,
   "metadata": {},
   "outputs": [
    {
     "data": {
      "application/vnd.plotly.v1+json": {
       "config": {
        "plotlyServerURL": "https://plot.ly"
       },
       "data": [
        {
         "name": "# Trades",
         "type": "bar",
         "x": [
          "BTC",
          "ETH",
          "LINK",
          "ADA",
          "DOGE"
         ],
         "xaxis": "x",
         "y": [
          3,
          4,
          2,
          2,
          2
         ],
         "yaxis": "y"
        },
        {
         "name": "Return [%]",
         "type": "bar",
         "x": [
          "BTC",
          "ETH",
          "LINK",
          "ADA",
          "DOGE"
         ],
         "xaxis": "x2",
         "y": [
          0.006898474285699194,
          2.3614141371428268,
          -0.4421562980000162,
          -1.1744809447999869,
          2.5062532638914563
         ],
         "yaxis": "y2"
        },
        {
         "name": "Win Rate [%]",
         "type": "bar",
         "x": [
          "BTC",
          "ETH",
          "LINK",
          "ADA",
          "DOGE"
         ],
         "xaxis": "x3",
         "y": [
          33.33333333333333,
          75,
          50,
          0,
          100
         ],
         "yaxis": "y3"
        },
        {
         "name": "Sharpe Ratio",
         "type": "bar",
         "x": [
          "BTC",
          "ETH",
          "LINK",
          "ADA",
          "DOGE"
         ],
         "xaxis": "x4",
         "y": [
          0.03701270404298209,
          4.772469935279415,
          0,
          0,
          5.216987313364772
         ],
         "yaxis": "y4"
        }
       ],
       "layout": {
        "annotations": [
         {
          "font": {
           "size": 16
          },
          "showarrow": false,
          "text": "# Trades",
          "x": 0.225,
          "xanchor": "center",
          "xref": "paper",
          "y": 1,
          "yanchor": "bottom",
          "yref": "paper"
         },
         {
          "font": {
           "size": 16
          },
          "showarrow": false,
          "text": "Return [%]",
          "x": 0.775,
          "xanchor": "center",
          "xref": "paper",
          "y": 1,
          "yanchor": "bottom",
          "yref": "paper"
         },
         {
          "font": {
           "size": 16
          },
          "showarrow": false,
          "text": "Win Rate [%]",
          "x": 0.225,
          "xanchor": "center",
          "xref": "paper",
          "y": 0.375,
          "yanchor": "bottom",
          "yref": "paper"
         },
         {
          "font": {
           "size": 16
          },
          "showarrow": false,
          "text": "Sharpe Ratio",
          "x": 0.775,
          "xanchor": "center",
          "xref": "paper",
          "y": 0.375,
          "yanchor": "bottom",
          "yref": "paper"
         }
        ],
        "height": 700,
        "template": {
         "data": {
          "bar": [
           {
            "error_x": {
             "color": "#2a3f5f"
            },
            "error_y": {
             "color": "#2a3f5f"
            },
            "marker": {
             "line": {
              "color": "#E5ECF6",
              "width": 0.5
             },
             "pattern": {
              "fillmode": "overlay",
              "size": 10,
              "solidity": 0.2
             }
            },
            "type": "bar"
           }
          ],
          "barpolar": [
           {
            "marker": {
             "line": {
              "color": "#E5ECF6",
              "width": 0.5
             },
             "pattern": {
              "fillmode": "overlay",
              "size": 10,
              "solidity": 0.2
             }
            },
            "type": "barpolar"
           }
          ],
          "carpet": [
           {
            "aaxis": {
             "endlinecolor": "#2a3f5f",
             "gridcolor": "white",
             "linecolor": "white",
             "minorgridcolor": "white",
             "startlinecolor": "#2a3f5f"
            },
            "baxis": {
             "endlinecolor": "#2a3f5f",
             "gridcolor": "white",
             "linecolor": "white",
             "minorgridcolor": "white",
             "startlinecolor": "#2a3f5f"
            },
            "type": "carpet"
           }
          ],
          "choropleth": [
           {
            "colorbar": {
             "outlinewidth": 0,
             "ticks": ""
            },
            "type": "choropleth"
           }
          ],
          "contour": [
           {
            "colorbar": {
             "outlinewidth": 0,
             "ticks": ""
            },
            "colorscale": [
             [
              0,
              "#0d0887"
             ],
             [
              0.1111111111111111,
              "#46039f"
             ],
             [
              0.2222222222222222,
              "#7201a8"
             ],
             [
              0.3333333333333333,
              "#9c179e"
             ],
             [
              0.4444444444444444,
              "#bd3786"
             ],
             [
              0.5555555555555556,
              "#d8576b"
             ],
             [
              0.6666666666666666,
              "#ed7953"
             ],
             [
              0.7777777777777778,
              "#fb9f3a"
             ],
             [
              0.8888888888888888,
              "#fdca26"
             ],
             [
              1,
              "#f0f921"
             ]
            ],
            "type": "contour"
           }
          ],
          "contourcarpet": [
           {
            "colorbar": {
             "outlinewidth": 0,
             "ticks": ""
            },
            "type": "contourcarpet"
           }
          ],
          "heatmap": [
           {
            "colorbar": {
             "outlinewidth": 0,
             "ticks": ""
            },
            "colorscale": [
             [
              0,
              "#0d0887"
             ],
             [
              0.1111111111111111,
              "#46039f"
             ],
             [
              0.2222222222222222,
              "#7201a8"
             ],
             [
              0.3333333333333333,
              "#9c179e"
             ],
             [
              0.4444444444444444,
              "#bd3786"
             ],
             [
              0.5555555555555556,
              "#d8576b"
             ],
             [
              0.6666666666666666,
              "#ed7953"
             ],
             [
              0.7777777777777778,
              "#fb9f3a"
             ],
             [
              0.8888888888888888,
              "#fdca26"
             ],
             [
              1,
              "#f0f921"
             ]
            ],
            "type": "heatmap"
           }
          ],
          "heatmapgl": [
           {
            "colorbar": {
             "outlinewidth": 0,
             "ticks": ""
            },
            "colorscale": [
             [
              0,
              "#0d0887"
             ],
             [
              0.1111111111111111,
              "#46039f"
             ],
             [
              0.2222222222222222,
              "#7201a8"
             ],
             [
              0.3333333333333333,
              "#9c179e"
             ],
             [
              0.4444444444444444,
              "#bd3786"
             ],
             [
              0.5555555555555556,
              "#d8576b"
             ],
             [
              0.6666666666666666,
              "#ed7953"
             ],
             [
              0.7777777777777778,
              "#fb9f3a"
             ],
             [
              0.8888888888888888,
              "#fdca26"
             ],
             [
              1,
              "#f0f921"
             ]
            ],
            "type": "heatmapgl"
           }
          ],
          "histogram": [
           {
            "marker": {
             "pattern": {
              "fillmode": "overlay",
              "size": 10,
              "solidity": 0.2
             }
            },
            "type": "histogram"
           }
          ],
          "histogram2d": [
           {
            "colorbar": {
             "outlinewidth": 0,
             "ticks": ""
            },
            "colorscale": [
             [
              0,
              "#0d0887"
             ],
             [
              0.1111111111111111,
              "#46039f"
             ],
             [
              0.2222222222222222,
              "#7201a8"
             ],
             [
              0.3333333333333333,
              "#9c179e"
             ],
             [
              0.4444444444444444,
              "#bd3786"
             ],
             [
              0.5555555555555556,
              "#d8576b"
             ],
             [
              0.6666666666666666,
              "#ed7953"
             ],
             [
              0.7777777777777778,
              "#fb9f3a"
             ],
             [
              0.8888888888888888,
              "#fdca26"
             ],
             [
              1,
              "#f0f921"
             ]
            ],
            "type": "histogram2d"
           }
          ],
          "histogram2dcontour": [
           {
            "colorbar": {
             "outlinewidth": 0,
             "ticks": ""
            },
            "colorscale": [
             [
              0,
              "#0d0887"
             ],
             [
              0.1111111111111111,
              "#46039f"
             ],
             [
              0.2222222222222222,
              "#7201a8"
             ],
             [
              0.3333333333333333,
              "#9c179e"
             ],
             [
              0.4444444444444444,
              "#bd3786"
             ],
             [
              0.5555555555555556,
              "#d8576b"
             ],
             [
              0.6666666666666666,
              "#ed7953"
             ],
             [
              0.7777777777777778,
              "#fb9f3a"
             ],
             [
              0.8888888888888888,
              "#fdca26"
             ],
             [
              1,
              "#f0f921"
             ]
            ],
            "type": "histogram2dcontour"
           }
          ],
          "mesh3d": [
           {
            "colorbar": {
             "outlinewidth": 0,
             "ticks": ""
            },
            "type": "mesh3d"
           }
          ],
          "parcoords": [
           {
            "line": {
             "colorbar": {
              "outlinewidth": 0,
              "ticks": ""
             }
            },
            "type": "parcoords"
           }
          ],
          "pie": [
           {
            "automargin": true,
            "type": "pie"
           }
          ],
          "scatter": [
           {
            "fillpattern": {
             "fillmode": "overlay",
             "size": 10,
             "solidity": 0.2
            },
            "type": "scatter"
           }
          ],
          "scatter3d": [
           {
            "line": {
             "colorbar": {
              "outlinewidth": 0,
              "ticks": ""
             }
            },
            "marker": {
             "colorbar": {
              "outlinewidth": 0,
              "ticks": ""
             }
            },
            "type": "scatter3d"
           }
          ],
          "scattercarpet": [
           {
            "marker": {
             "colorbar": {
              "outlinewidth": 0,
              "ticks": ""
             }
            },
            "type": "scattercarpet"
           }
          ],
          "scattergeo": [
           {
            "marker": {
             "colorbar": {
              "outlinewidth": 0,
              "ticks": ""
             }
            },
            "type": "scattergeo"
           }
          ],
          "scattergl": [
           {
            "marker": {
             "colorbar": {
              "outlinewidth": 0,
              "ticks": ""
             }
            },
            "type": "scattergl"
           }
          ],
          "scattermapbox": [
           {
            "marker": {
             "colorbar": {
              "outlinewidth": 0,
              "ticks": ""
             }
            },
            "type": "scattermapbox"
           }
          ],
          "scatterpolar": [
           {
            "marker": {
             "colorbar": {
              "outlinewidth": 0,
              "ticks": ""
             }
            },
            "type": "scatterpolar"
           }
          ],
          "scatterpolargl": [
           {
            "marker": {
             "colorbar": {
              "outlinewidth": 0,
              "ticks": ""
             }
            },
            "type": "scatterpolargl"
           }
          ],
          "scatterternary": [
           {
            "marker": {
             "colorbar": {
              "outlinewidth": 0,
              "ticks": ""
             }
            },
            "type": "scatterternary"
           }
          ],
          "surface": [
           {
            "colorbar": {
             "outlinewidth": 0,
             "ticks": ""
            },
            "colorscale": [
             [
              0,
              "#0d0887"
             ],
             [
              0.1111111111111111,
              "#46039f"
             ],
             [
              0.2222222222222222,
              "#7201a8"
             ],
             [
              0.3333333333333333,
              "#9c179e"
             ],
             [
              0.4444444444444444,
              "#bd3786"
             ],
             [
              0.5555555555555556,
              "#d8576b"
             ],
             [
              0.6666666666666666,
              "#ed7953"
             ],
             [
              0.7777777777777778,
              "#fb9f3a"
             ],
             [
              0.8888888888888888,
              "#fdca26"
             ],
             [
              1,
              "#f0f921"
             ]
            ],
            "type": "surface"
           }
          ],
          "table": [
           {
            "cells": {
             "fill": {
              "color": "#EBF0F8"
             },
             "line": {
              "color": "white"
             }
            },
            "header": {
             "fill": {
              "color": "#C8D4E3"
             },
             "line": {
              "color": "white"
             }
            },
            "type": "table"
           }
          ]
         },
         "layout": {
          "annotationdefaults": {
           "arrowcolor": "#2a3f5f",
           "arrowhead": 0,
           "arrowwidth": 1
          },
          "autotypenumbers": "strict",
          "coloraxis": {
           "colorbar": {
            "outlinewidth": 0,
            "ticks": ""
           }
          },
          "colorscale": {
           "diverging": [
            [
             0,
             "#8e0152"
            ],
            [
             0.1,
             "#c51b7d"
            ],
            [
             0.2,
             "#de77ae"
            ],
            [
             0.3,
             "#f1b6da"
            ],
            [
             0.4,
             "#fde0ef"
            ],
            [
             0.5,
             "#f7f7f7"
            ],
            [
             0.6,
             "#e6f5d0"
            ],
            [
             0.7,
             "#b8e186"
            ],
            [
             0.8,
             "#7fbc41"
            ],
            [
             0.9,
             "#4d9221"
            ],
            [
             1,
             "#276419"
            ]
           ],
           "sequential": [
            [
             0,
             "#0d0887"
            ],
            [
             0.1111111111111111,
             "#46039f"
            ],
            [
             0.2222222222222222,
             "#7201a8"
            ],
            [
             0.3333333333333333,
             "#9c179e"
            ],
            [
             0.4444444444444444,
             "#bd3786"
            ],
            [
             0.5555555555555556,
             "#d8576b"
            ],
            [
             0.6666666666666666,
             "#ed7953"
            ],
            [
             0.7777777777777778,
             "#fb9f3a"
            ],
            [
             0.8888888888888888,
             "#fdca26"
            ],
            [
             1,
             "#f0f921"
            ]
           ],
           "sequentialminus": [
            [
             0,
             "#0d0887"
            ],
            [
             0.1111111111111111,
             "#46039f"
            ],
            [
             0.2222222222222222,
             "#7201a8"
            ],
            [
             0.3333333333333333,
             "#9c179e"
            ],
            [
             0.4444444444444444,
             "#bd3786"
            ],
            [
             0.5555555555555556,
             "#d8576b"
            ],
            [
             0.6666666666666666,
             "#ed7953"
            ],
            [
             0.7777777777777778,
             "#fb9f3a"
            ],
            [
             0.8888888888888888,
             "#fdca26"
            ],
            [
             1,
             "#f0f921"
            ]
           ]
          },
          "colorway": [
           "#636efa",
           "#EF553B",
           "#00cc96",
           "#ab63fa",
           "#FFA15A",
           "#19d3f3",
           "#FF6692",
           "#B6E880",
           "#FF97FF",
           "#FECB52"
          ],
          "font": {
           "color": "#2a3f5f"
          },
          "geo": {
           "bgcolor": "white",
           "lakecolor": "white",
           "landcolor": "#E5ECF6",
           "showlakes": true,
           "showland": true,
           "subunitcolor": "white"
          },
          "hoverlabel": {
           "align": "left"
          },
          "hovermode": "closest",
          "mapbox": {
           "style": "light"
          },
          "paper_bgcolor": "white",
          "plot_bgcolor": "#E5ECF6",
          "polar": {
           "angularaxis": {
            "gridcolor": "white",
            "linecolor": "white",
            "ticks": ""
           },
           "bgcolor": "#E5ECF6",
           "radialaxis": {
            "gridcolor": "white",
            "linecolor": "white",
            "ticks": ""
           }
          },
          "scene": {
           "xaxis": {
            "backgroundcolor": "#E5ECF6",
            "gridcolor": "white",
            "gridwidth": 2,
            "linecolor": "white",
            "showbackground": true,
            "ticks": "",
            "zerolinecolor": "white"
           },
           "yaxis": {
            "backgroundcolor": "#E5ECF6",
            "gridcolor": "white",
            "gridwidth": 2,
            "linecolor": "white",
            "showbackground": true,
            "ticks": "",
            "zerolinecolor": "white"
           },
           "zaxis": {
            "backgroundcolor": "#E5ECF6",
            "gridcolor": "white",
            "gridwidth": 2,
            "linecolor": "white",
            "showbackground": true,
            "ticks": "",
            "zerolinecolor": "white"
           }
          },
          "shapedefaults": {
           "line": {
            "color": "#2a3f5f"
           }
          },
          "ternary": {
           "aaxis": {
            "gridcolor": "white",
            "linecolor": "white",
            "ticks": ""
           },
           "baxis": {
            "gridcolor": "white",
            "linecolor": "white",
            "ticks": ""
           },
           "bgcolor": "#E5ECF6",
           "caxis": {
            "gridcolor": "white",
            "linecolor": "white",
            "ticks": ""
           }
          },
          "title": {
           "x": 0.05
          },
          "xaxis": {
           "automargin": true,
           "gridcolor": "white",
           "linecolor": "white",
           "ticks": "",
           "title": {
            "standoff": 15
           },
           "zerolinecolor": "white",
           "zerolinewidth": 2
          },
          "yaxis": {
           "automargin": true,
           "gridcolor": "white",
           "linecolor": "white",
           "ticks": "",
           "title": {
            "standoff": 15
           },
           "zerolinecolor": "white",
           "zerolinewidth": 2
          }
         }
        },
        "title": {
         "text": "Desired Metrics"
        },
        "width": 900,
        "xaxis": {
         "anchor": "y",
         "domain": [
          0,
          0.45
         ],
         "title": {
          "text": "Symbols"
         }
        },
        "xaxis2": {
         "anchor": "y2",
         "domain": [
          0.55,
          1
         ],
         "title": {
          "text": "Symbols"
         }
        },
        "xaxis3": {
         "anchor": "y3",
         "domain": [
          0,
          0.45
         ],
         "title": {
          "text": "Symbols"
         }
        },
        "xaxis4": {
         "anchor": "y4",
         "domain": [
          0.55,
          1
         ],
         "title": {
          "text": "Symbols"
         }
        },
        "yaxis": {
         "anchor": "x",
         "domain": [
          0.625,
          1
         ],
         "title": {
          "text": "# Trades"
         }
        },
        "yaxis2": {
         "anchor": "x2",
         "domain": [
          0.625,
          1
         ],
         "title": {
          "text": "Return [%]"
         }
        },
        "yaxis3": {
         "anchor": "x3",
         "domain": [
          0,
          0.375
         ],
         "title": {
          "text": "Win Rate [%]"
         }
        },
        "yaxis4": {
         "anchor": "x4",
         "domain": [
          0,
          0.375
         ],
         "title": {
          "text": "Sharpe Ratio"
         }
        }
       }
      }
     },
     "metadata": {},
     "output_type": "display_data"
    }
   ],
   "source": [
    "# Create subplots: 2 rows, 2 columns\n",
    "fig = make_subplots(rows=2, cols=2, subplot_titles=(\"# Trades\", \"Return [%]\", \"Win Rate [%]\", \"Sharpe Ratio\"))\n",
    "\n",
    "# Add traces\n",
    "fig.add_trace(go.Bar(x=desired_metrics_df.index, y=desired_metrics_df['# Trades'], name='# Trades'), row=1, col=1)\n",
    "fig.add_trace(go.Bar(x=desired_metrics_df.index, y=desired_metrics_df['Return [%]'], name='Return [%]'), row=1, col=2)\n",
    "fig.add_trace(go.Bar(x=desired_metrics_df.index, y=desired_metrics_df['Win Rate [%]'], name='Win Rate [%]'), row=2, col=1)\n",
    "fig.add_trace(go.Bar(x=desired_metrics_df.index, y=desired_metrics_df['Sharpe Ratio'], name='Sharpe Ratio'), row=2, col=2)\n",
    "\n",
    "# Update xaxis properties\n",
    "fig.update_xaxes(title_text=\"Symbols\", row=1, col=1)\n",
    "fig.update_xaxes(title_text=\"Symbols\", row=1, col=2)\n",
    "fig.update_xaxes(title_text=\"Symbols\", row=2, col=1)\n",
    "fig.update_xaxes(title_text=\"Symbols\", row=2, col=2)\n",
    "\n",
    "# Update yaxis properties\n",
    "fig.update_yaxes(title_text=\"# Trades\", row=1, col=1)\n",
    "fig.update_yaxes(title_text=\"Return [%]\", row=1, col=2)\n",
    "fig.update_yaxes(title_text=\"Win Rate [%]\", row=2, col=1)\n",
    "fig.update_yaxes(title_text=\"Sharpe Ratio\", row=2, col=2)\n",
    "\n",
    "# Update layout\n",
    "fig.update_layout(height=700, width=900, title_text=\"Desired Metrics\")\n",
    "\n",
    "# Show the plot\n",
    "fig.show()"
   ]
  }
 ],
 "metadata": {
  "kernelspec": {
   "display_name": "Python 3",
   "language": "python",
   "name": "python3"
  },
  "language_info": {
   "codemirror_mode": {
    "name": "ipython",
    "version": 3
   },
   "file_extension": ".py",
   "mimetype": "text/x-python",
   "name": "python",
   "nbconvert_exporter": "python",
   "pygments_lexer": "ipython3",
   "version": "3.10.11"
  },
  "orig_nbformat": 4
 },
 "nbformat": 4,
 "nbformat_minor": 2
}
