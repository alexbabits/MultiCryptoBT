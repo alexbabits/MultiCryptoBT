{
 "cells": [
  {
   "cell_type": "code",
   "execution_count": null,
   "metadata": {},
   "outputs": [],
   "source": [
    "%pip install finta\n",
    "%pip install yfinance\n",
    "%pip install backtesting\n",
    "from backtesting import Backtest, Strategy\n",
    "from backtesting.lib import crossover\n",
    "from backtesting.test import SMA\n",
    "import requests\n",
    "import json\n",
    "from finta import TA\n",
    "import pandas as pd"
   ]
  },
  {
   "cell_type": "code",
   "execution_count": null,
   "metadata": {},
   "outputs": [],
   "source": [
    "def create_price_data_dict(symbols, start_date, end_date):\n",
    "    dict = {}\n",
    "    \n",
    "    for symbol in symbols:\n",
    "        url = f'https://api.pro.coinbase.com/products/{symbol}-USD/candles'\n",
    "        params = {'start': start_date, 'end': end_date, 'granularity': 3600}\n",
    "        response = requests.get(url, params=params)\n",
    "        data = json.loads(response.text)\n",
    "\n",
    "        df = pd.DataFrame(data, columns=['Date', 'Open', 'High', 'Low', 'Close', 'Volume'])\n",
    "        df['Date'] = pd.to_datetime(df['Date'], unit='s')\n",
    "        df.set_index('Date', inplace=True)\n",
    "        df.sort_index(inplace=True)\n",
    "        \n",
    "        dict[symbol] = df\n",
    "\n",
    "    return dict\n",
    "\n",
    "symbols = ['BTC', 'ETH', 'LINK', 'ADA', 'DOGE']\n",
    "start_date = '2023-04-07T00:00:00.000Z'\n",
    "end_date = '2023-04-18T23:59:59.999Z'\n",
    "\n",
    "price_data_dict = create_price_data_dict(symbols, start_date, end_date)\n",
    "price_data_dict"
   ]
  },
  {
   "cell_type": "code",
   "execution_count": 120,
   "metadata": {},
   "outputs": [],
   "source": [
    "class SmaCrossWithRSI(Strategy):\n",
    "    # Initialize variables\n",
    "    short_sma = 20\n",
    "    long_sma = 50\n",
    "    atr_length = 14\n",
    "    rsi_length = 14\n",
    "\n",
    "    # Initialize the strategy. Instances are stored as attributes in our SmaCrossWithRSI object. \n",
    "    def init(self):\n",
    "        # Creates pandas series of the price data for later use. \n",
    "        open = pd.Series(self.data.Open)\n",
    "        close = pd.Series(self.data.Close)\n",
    "        high = pd.Series(self.data.High)\n",
    "        low = pd.Series(self.data.Low)\n",
    "        volume = pd.Series(self.data.Volume)\n",
    "\n",
    "        # Creates df for the ohlcv data to calculate ATR and RSI.\n",
    "        ohlcv = pd.DataFrame({'open': open, 'high': high, 'low': low, 'close': close, 'volume': volume})\n",
    "\n",
    "        # Create instance of ATR and RSI indicators from finta, and the native SMA indicator from bt.\n",
    "        self.atr = self.I(TA.ATR, ohlcv, self.atr_length)\n",
    "        self.rsi = self.I(TA.RSI, ohlcv, self.rsi_length)\n",
    "        self.sma1 = self.I(SMA, close, self.short_sma)\n",
    "        self.sma2 = self.I(SMA, close, self.long_sma)\n",
    "\n",
    "    # Logic for trade entrance and exit\n",
    "    def next(self):\n",
    "        # Price set to the candles 'close' value, used for calculating stop loss and take profit targets.\n",
    "        price = self.data.Close\n",
    "\n",
    "        # ATR and RSI for the latest candle.\n",
    "        ATR = self.atr[-1]\n",
    "        RSI = self.rsi[-1]\n",
    "\n",
    "        # If sma1 crosses over sma2, and RSI > 50, then enter a long position with the desired target logic.\n",
    "        if crossover(self.sma1, self.sma2) and RSI > 50:\n",
    "            stop_loss = price - (1.1 * ATR)\n",
    "            take_profit = price + (2 * ATR)\n",
    "            self.buy(sl=stop_loss, tp=take_profit)"
   ]
  },
  {
   "cell_type": "code",
   "execution_count": null,
   "metadata": {},
   "outputs": [],
   "source": [
    "def run_backtests(price_data_dict, strategy_class, cash=100000, commission=0.002, exclusive_orders=True):\n",
    "    backtest_results = {}\n",
    "    \n",
    "    for symbol, data in price_data_dict.items():\n",
    "        bt = Backtest(data, strategy_class, cash=cash, commission=commission, exclusive_orders=exclusive_orders)\n",
    "        strategy_trade_results = bt.run()\n",
    "        strategy_trade_results_df = pd.DataFrame(strategy_trade_results).transpose()\n",
    "        backtest_results[symbol] = strategy_trade_results_df\n",
    "\n",
    "    return backtest_results\n",
    "\n",
    "backtest_results = run_backtests(price_data_dict, SmaCrossWithRSI)\n",
    "backtest_results"
   ]
  },
  {
   "cell_type": "code",
   "execution_count": 151,
   "metadata": {},
   "outputs": [
    {
     "name": "stdout",
     "output_type": "stream",
     "text": [
      "        # Trades Return [%] Sharpe Ratio Win Rate [%]\n",
      "Symbols                                              \n",
      "BTC            3   0.006898     0.037013    33.333333\n",
      "ETH            4   2.361414      4.77247         75.0\n",
      "LINK           2  -0.442156          0.0         50.0\n",
      "ADA            2  -1.174481          0.0          0.0\n",
      "DOGE           2   2.506253     5.216987        100.0\n"
     ]
    }
   ],
   "source": [
    "# 1. List the metrics you want to extract\n",
    "metrics_to_extract = ['# Trades', 'Return [%]', 'Sharpe Ratio', 'Win Rate [%]']\n",
    "\n",
    "# 2. Extract the metrics from the individual DataFrames\n",
    "metrics_data = {}\n",
    "\n",
    "for symbol, backtest_result_df in backtest_results.items():\n",
    "    metrics_data[symbol] = backtest_result_df.loc[0, metrics_to_extract]\n",
    "\n",
    "# 3. Combine the extracted metrics into a single DataFrame\n",
    "combined_metrics_df = pd.DataFrame(metrics_data).transpose()\n",
    "combined_metrics_df['Symbols'] = combined_metrics_df.index\n",
    "combined_metrics_df.set_index('Symbols', inplace=True)\n",
    "\n",
    "print(combined_metrics_df)"
   ]
  },
  {
   "cell_type": "code",
   "execution_count": 160,
   "metadata": {},
   "outputs": [
    {
     "name": "stdout",
     "output_type": "stream",
     "text": [
      "          Return [%]  Sharpe Ratio  Win Rate [%]\n",
      "# Trades                                        \n",
      "13          0.651586      2.005294     51.666667\n"
     ]
    }
   ],
   "source": [
    "# Calculate the sum and mean\n",
    "total_trades = combined_metrics_df['# Trades'].sum()\n",
    "mean_return = combined_metrics_df['Return [%]'].mean()\n",
    "mean_sharpe_ratio = combined_metrics_df['Sharpe Ratio'].mean()\n",
    "mean_win_rate = combined_metrics_df['Win Rate [%]'].mean()\n",
    "\n",
    "# Create a DataFrame with the aggregated data\n",
    "aggregated_data = pd.DataFrame(data=[[total_trades, mean_return, mean_sharpe_ratio, mean_win_rate]], columns=metrics_to_extract)\n",
    "# Set '# Trades' as the index\n",
    "aggregated_data.set_index('# Trades', inplace=True)\n",
    "print(aggregated_data)"
   ]
  }
 ],
 "metadata": {
  "kernelspec": {
   "display_name": "Python 3",
   "language": "python",
   "name": "python3"
  },
  "language_info": {
   "codemirror_mode": {
    "name": "ipython",
    "version": 3
   },
   "file_extension": ".py",
   "mimetype": "text/x-python",
   "name": "python",
   "nbconvert_exporter": "python",
   "pygments_lexer": "ipython3",
   "version": "3.10.11"
  },
  "orig_nbformat": 4
 },
 "nbformat": 4,
 "nbformat_minor": 2
}
