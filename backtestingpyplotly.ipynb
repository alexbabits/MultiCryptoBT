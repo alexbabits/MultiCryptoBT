{
 "cells": [
  {
   "cell_type": "code",
   "execution_count": null,
   "metadata": {},
   "outputs": [],
   "source": [
    "%pip install finta\n",
    "%pip install yfinance\n",
    "%pip install backtesting\n",
    "from backtesting import Backtest, Strategy\n",
    "from backtesting.lib import crossover\n",
    "from backtesting.test import SMA\n",
    "import requests\n",
    "import json\n",
    "from finta import TA\n",
    "import pandas as pd"
   ]
  },
  {
   "cell_type": "code",
   "execution_count": null,
   "metadata": {},
   "outputs": [],
   "source": [
    "url = 'https://api.pro.coinbase.com/products/ADA-USD/candles'\n",
    "params = {'start': '2023-04-07T00:00:00.000Z', 'end': '2023-04-18T23:59:59.999Z', 'granularity': 3600}\n",
    "response = requests.get(url, params=params)\n",
    "data = json.loads(response.text)\n",
    "\n",
    "df = pd.DataFrame(data, columns=['Date', 'Open', 'High', 'Low', 'Close', 'Volume'])\n",
    "df['Date'] = pd.to_datetime(df['Date'], unit='s')\n",
    "df.set_index('Date', inplace=True)\n",
    "df.sort_index(inplace=True)\n",
    "df"
   ]
  },
  {
   "cell_type": "code",
   "execution_count": 69,
   "metadata": {},
   "outputs": [],
   "source": [
    "class SmaCrossWithRSI(Strategy):\n",
    "    # Initialize variables\n",
    "    short_sma = 20\n",
    "    long_sma = 50\n",
    "    atr_length = 14\n",
    "    rsi_length = 14\n",
    "\n",
    "    # Initialize the strategy. Instances are stored as attributes in our SmaCrossWithRSI object. \n",
    "    def init(self):\n",
    "        # Creates pandas series of the price data for later use. \n",
    "        open = pd.Series(self.data.Open)\n",
    "        close = pd.Series(self.data.Close)\n",
    "        high = pd.Series(self.data.High)\n",
    "        low = pd.Series(self.data.Low)\n",
    "        volume = pd.Series(self.data.Volume)\n",
    "\n",
    "        # Creates df for the ohlcv data to calculate ATR and RSI.\n",
    "        ohlcv = pd.DataFrame({'open': open, 'high': high, 'low': low, 'close': close, 'volume': volume})\n",
    "\n",
    "        # Create instance of ATR and RSI indicators from finta, and the native SMA indicator from bt.\n",
    "        self.atr = self.I(TA.ATR, ohlcv, self.atr_length)\n",
    "        self.rsi = self.I(TA.RSI, ohlcv, self.rsi_length)\n",
    "        self.sma1 = self.I(SMA, close, self.short_sma)\n",
    "        self.sma2 = self.I(SMA, close, self.long_sma)\n",
    "\n",
    "    # Logic for trade entrance and exit\n",
    "    def next(self):\n",
    "        # Price set to the candles 'close' value, used for calculating stop loss and take profit targets.\n",
    "        price = self.data.Close\n",
    "\n",
    "        # ATR and RSI for the latest candle.\n",
    "        ATR = self.atr[-1]\n",
    "        RSI = self.rsi[-1]\n",
    "\n",
    "        # If sma1 crosses over sma2, and RSI > 50, then enter a long position with the desired target logic.\n",
    "        if crossover(self.sma1, self.sma2) and RSI > 50:\n",
    "            stop_loss = price - (1.1 * ATR)\n",
    "            take_profit = price + (2 * ATR)\n",
    "            self.buy(sl=stop_loss, tp=take_profit)"
   ]
  },
  {
   "cell_type": "code",
   "execution_count": 71,
   "metadata": {},
   "outputs": [
    {
     "data": {
      "text/plain": [
       "Start                     2023-04-07 00:00:00\n",
       "End                       2023-04-18 23:00:00\n",
       "Duration                     11 days 23:00:00\n",
       "Exposure Time [%]                    5.208333\n",
       "Equity Final [$]                100006.898474\n",
       "Equity Peak [$]                  100096.74406\n",
       "Return [%]                           0.006898\n",
       "Buy & Hold Return [%]                8.104244\n",
       "Return (Ann.) [%]                    0.210042\n",
       "Volatility (Ann.) [%]                5.674852\n",
       "Sharpe Ratio                         0.037013\n",
       "Sortino Ratio                        0.072673\n",
       "Calmar Ratio                         0.240399\n",
       "Max. Drawdown [%]                   -0.873721\n",
       "Avg. Drawdown [%]                   -0.476793\n",
       "Max. Drawdown Duration        8 days 23:00:00\n",
       "Avg. Drawdown Duration        4 days 13:00:00\n",
       "# Trades                                    3\n",
       "Win Rate [%]                        33.333333\n",
       "Best Trade [%]                       0.867063\n",
       "Worst Trade [%]                     -0.485102\n",
       "Avg. Trade [%]                      -0.008002\n",
       "Max. Trade Duration           0 days 06:00:00\n",
       "Avg. Trade Duration           0 days 04:00:00\n",
       "Profit Factor                        0.979344\n",
       "Expectancy [%]                      -0.006096\n",
       "SQN                                  0.005874\n",
       "_strategy                     SmaCrossWithRSI\n",
       "_equity_curve                             ...\n",
       "_trades                      Size  EntryBa...\n",
       "dtype: object"
      ]
     },
     "execution_count": 71,
     "metadata": {},
     "output_type": "execute_result"
    }
   ],
   "source": [
    "bt = Backtest(df, SmaCrossWithRSI, cash=100000, commission=0.002, exclusive_orders=True)\n",
    "\n",
    "strategy_trade_results = bt.run()\n",
    "strategy_trade_results"
   ]
  },
  {
   "cell_type": "code",
   "execution_count": null,
   "metadata": {},
   "outputs": [],
   "source": [
    "bt.plot()"
   ]
  }
 ],
 "metadata": {
  "kernelspec": {
   "display_name": "Python 3",
   "language": "python",
   "name": "python3"
  },
  "language_info": {
   "codemirror_mode": {
    "name": "ipython",
    "version": 3
   },
   "file_extension": ".py",
   "mimetype": "text/x-python",
   "name": "python",
   "nbconvert_exporter": "python",
   "pygments_lexer": "ipython3",
   "version": "3.10.11"
  },
  "orig_nbformat": 4
 },
 "nbformat": 4,
 "nbformat_minor": 2
}
